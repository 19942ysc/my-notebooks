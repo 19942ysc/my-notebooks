{
  "nbformat": 4,
  "nbformat_minor": 0,
  "metadata": {
    "colab": {
      "name": "My First Notebook",
      "provenance": [],
      "authorship_tag": "ABX9TyNrzUFudQ0+qHri7c6YT19V",
      "include_colab_link": true
    },
    "kernelspec": {
      "name": "python3",
      "display_name": "Python 3"
    },
    "language_info": {
      "name": "python"
    }
  },
  "cells": [
    {
      "cell_type": "markdown",
      "metadata": {
        "id": "view-in-github",
        "colab_type": "text"
      },
      "source": [
        "<a href=\"https://colab.research.google.com/github/19942ysc/my-notebooks/blob/main/My_First_Notebook.ipynb\" target=\"_parent\"><img src=\"https://colab.research.google.com/assets/colab-badge.svg\" alt=\"Open In Colab\"/></a>"
      ]
    },
    {
      "cell_type": "code",
      "execution_count": null,
      "metadata": {
        "id": "V8ovaO9vu85r"
      },
      "outputs": [],
      "source": [
        ""
      ]
    },
    {
      "cell_type": "markdown",
      "source": [
        "This is some text\n",
        "we can write any language (like english)\n",
        "\n"
      ],
      "metadata": {
        "id": "tmvEhM7Pwnp1"
      }
    },
    {
      "cell_type": "markdown",
      "source": [
        "# My Heading\n",
        "\n",
        "Writing normal sentences.\n",
        "\n",
        "## Heading Level 2\n",
        "\n",
        "Here is a list:\n",
        "\n",
        "  + Item 1\n",
        "  + Item 2\n",
        "  + Item 3\n",
        "\n",
        "Numbered list:\n",
        "\n",
        "  1. Item 1\n",
        "  2. Item 2\n",
        "  3. Item 3\n",
        "\n",
        "\n",
        "This is a link: [link name](https://www.google.com/ )\n",
        "\n",
        "This is a code block (we'll use in the README files):\n",
        "\n",
        "```\n",
        "print(\"HELLO\")\n",
        "```"
      ],
      "metadata": {
        "id": "fjFWLFiKxQKQ"
      }
    },
    {
      "cell_type": "code",
      "source": [
        "# This is some example Python code\n",
        "# These lines starting with \"#\" are \"comments\"\n",
        "# Remember \"#\" means something different in Markdown than it does in Python\n",
        "\n",
        "print(\"HELLO WORLD!\")\n",
        "\n",
        "x = 2 + 2\n",
        "print(x)"
      ],
      "metadata": {
        "colab": {
          "base_uri": "https://localhost:8080/"
        },
        "id": "FMU1xfOMyo1P",
        "outputId": "8270ef6f-85b0-4ebe-8d90-491e14d76925"
      },
      "execution_count": 1,
      "outputs": [
        {
          "output_type": "stream",
          "name": "stdout",
          "text": [
            "HELLO WORLD!\n",
            "4\n"
          ]
        }
      ]
    }
  ]
}